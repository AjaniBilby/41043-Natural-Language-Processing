{
 "cells": [
  {
   "attachments": {},
   "cell_type": "markdown",
   "metadata": {},
   "source": [
    "# Prerequisite\n",
    "\n",
    "Please download the dataset here [here](https://www.kaggle.com/datasets/andrewmvd/cyberbullying-classification?resource=download), and save it `./data/dataset.csv`.\n",
    "\n",
    "> This cannot be done automatically due to Kaggle requiring a user to be logged in to download the dataset"
   ]
  },
  {
   "cell_type": "code",
   "execution_count": null,
   "metadata": {},
   "outputs": [],
   "source": [
    "!pip install scikit-learn\n",
    "!pip install pandas"
   ]
  },
  {
   "cell_type": "code",
   "execution_count": 6,
   "metadata": {},
   "outputs": [],
   "source": [
    "# Split the dataset into training and testing\n",
    "\n",
    "import pandas as pd\n",
    "from sklearn.model_selection import train_test_split\n",
    "\n",
    "# Load the dataset\n",
    "df = pd.read_csv('./data/dataset.csv')\n",
    "\n",
    "# Split the dataset into a 8:2 ratio\n",
    "train_df, valid_df = train_test_split(df, test_size=0.2)\n",
    "\n",
    "# Write the training set into training.csv\n",
    "train_df.to_csv('./data/training.csv', index=False)\n",
    "\n",
    "# Write the validation set into validation.csv\n",
    "valid_df.to_csv('./data/validation.csv', index=False)\n"
   ]
  }
 ],
 "metadata": {
  "kernelspec": {
   "display_name": "Python 3",
   "language": "python",
   "name": "python3"
  },
  "language_info": {
   "codemirror_mode": {
    "name": "ipython",
    "version": 3
   },
   "file_extension": ".py",
   "mimetype": "text/x-python",
   "name": "python",
   "nbconvert_exporter": "python",
   "pygments_lexer": "ipython3",
   "version": "3.11.2"
  },
  "orig_nbformat": 4
 },
 "nbformat": 4,
 "nbformat_minor": 2
}
