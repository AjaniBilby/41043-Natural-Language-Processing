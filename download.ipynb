{
 "cells": [
  {
   "cell_type": "code",
   "execution_count": null,
   "metadata": {},
   "outputs": [],
   "source": [
    "# Download and save the complete dataset\n",
    "import requests\n",
    "import os\n",
    "\n",
    "url = \"https://www.kaggle.com/datasets/andrewmvd/cyberbullying-classification/download\"\n",
    "\n",
    "if not os.path.exists(\"./data\"):\n",
    "    os.makedirs(\"./data\")\n",
    "\n",
    "response = requests.get(url)\n",
    "\n",
    "with open(\"./data/dataset.csv\", \"wb\") as file:\n",
    "    file.write(response.content)"
   ]
  },
  {
   "cell_type": "code",
   "execution_count": null,
   "metadata": {},
   "outputs": [],
   "source": [
    "# Split the dataset into training and testing\n",
    "\n",
    "import pandas as pd\n",
    "from sklearn.model_selection import train_test_split\n",
    "\n",
    "# Load the dataset\n",
    "df = pd.read_csv('./data/dataset.csv')\n",
    "\n",
    "# Split the dataset into a training set and a test set\n",
    "# Here, 20% of the data is used for the test set. You can adjust this value.\n",
    "train_df, test_df = train_test_split(df, test_size=0.2)\n",
    "\n",
    "# Write the training set into training.csv\n",
    "train_df.to_csv('./data/training.csv', index=False)\n",
    "\n",
    "# Write the test set into testing.csv\n",
    "test_df.to_csv('./data/testing.csv', index=False)\n"
   ]
  }
 ],
 "metadata": {
  "language_info": {
   "name": "python"
  },
  "orig_nbformat": 4
 },
 "nbformat": 4,
 "nbformat_minor": 2
}
